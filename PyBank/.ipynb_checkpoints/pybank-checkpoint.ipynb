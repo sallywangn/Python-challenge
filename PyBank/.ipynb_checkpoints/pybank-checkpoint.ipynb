{
 "cells": [
  {
   "cell_type": "code",
   "execution_count": 2,
   "id": "94364118",
   "metadata": {},
   "outputs": [
    {
     "name": "stdout",
     "output_type": "stream",
     "text": [
      "Financial Analysis\n",
      "----------------------------\n",
      "Total Month:86\n",
      "Total: $22564198\n",
      "Average Change: $-8311.11\n",
      "Greatest Increase in Profits: Aug-16 ($1862002)\n",
      "Greatest Decrease in Profits: Feb-14 ($-1825558)\n"
     ]
    }
   ],
   "source": [
    "# Dependencies\n",
    "import os\n",
    "import csv\n",
    "\n",
    "# file to load and output\n",
    "\n",
    "file_to_load = os.path.join(\".\",\"Resources\",\"budget_data.csv\")\n",
    "file_to_output = os.path.join(\".\",\"budget_analysis.txt\")\n",
    "\n",
    "total_months = 0\n",
    "total = 0\n",
    "net_change_list = []\n",
    "all_rows = []\n",
    "\n",
    "#read the csv and convert it into a list\n",
    "with open(file_to_load) as financial_data:\n",
    "    \n",
    "    reader = csv.reader(financial_data, delimiter=\",\")\n",
    "    \n",
    "    #read the header row\n",
    "    header = next(reader)\n",
    "    first_row = next (reader)\n",
    "    \n",
    "    total_months = 1\n",
    "    total = int(first_row[1])\n",
    "    previous_net = int(first_row[1])\n",
    "\n",
    "    for row in reader:\n",
    "        all_rows.append(row)\n",
    "        total_months += 1\n",
    "        total += int(row[1])\n",
    "        net_change = int(row[1])-previous_net\n",
    "        previous_net = int(row[1])\n",
    "        net_change_list.append(net_change)\n",
    "        \n",
    "average_change = sum(net_change_list) / len(net_change_list)\n",
    "max_increase = max(net_change_list)\n",
    "max_decrease = min(net_change_list)\n",
    "max_increase_date = \"\"\n",
    "max_decrease_date = \"\"  \n",
    "    \n",
    "for i, row in enumerate(all_rows):\n",
    "        \n",
    "# The greatest increase in profits (date and amount) over the entire period\n",
    "    if net_change_list[i] == max_increase:\n",
    "        max_increase_date = row[0]\n",
    "\n",
    "# The greatest decrease in profits (date and amount) over the entire period\n",
    "    if net_change_list[i] == max_decrease:\n",
    "        max_decrease_date = row[0]\n",
    "\n",
    "print(\"Financial Analysis\")\n",
    "print(\"----------------------------\")\n",
    "\n",
    "# The total number of months included in the dataset\n",
    "print(f\"Total Month:{total_months}\")\n",
    "\n",
    "# The net total amount of “Profit/Losses” over the entire period\n",
    "print(f\"Total: ${total}\")\n",
    "\n",
    "# The changes in “Profit/Losses” over the entire period, and then the average of those changes\n",
    "#print(net_change_list)\n",
    "print(f\"Average Change: ${round(average_change,2)}\")\n",
    "\n",
    "print(f\"Greatest Increase in Profits: {max_increase_date} (${max_increase})\")\n",
    "print(f\"Greatest Decrease in Profits: {max_decrease_date} (${max_decrease})\")\n",
    "      \n",
    "\n"
   ]
  },
  {
   "cell_type": "code",
   "execution_count": null,
   "id": "0122091c",
   "metadata": {},
   "outputs": [],
   "source": []
  }
 ],
 "metadata": {
  "kernelspec": {
   "display_name": "Python 3 (ipykernel)",
   "language": "python",
   "name": "python3"
  },
  "language_info": {
   "codemirror_mode": {
    "name": "ipython",
    "version": 3
   },
   "file_extension": ".py",
   "mimetype": "text/x-python",
   "name": "python",
   "nbconvert_exporter": "python",
   "pygments_lexer": "ipython3",
   "version": "3.11.4"
  }
 },
 "nbformat": 4,
 "nbformat_minor": 5
}
