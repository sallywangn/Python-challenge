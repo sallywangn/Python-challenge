{
 "cells": [
  {
   "cell_type": "code",
   "execution_count": 32,
   "id": "0977428b",
   "metadata": {},
   "outputs": [
    {
     "name": "stdout",
     "output_type": "stream",
     "text": [
      "Election Results: \n",
      "-------------------------\n",
      "Total Votes: 369711\n",
      "-------------------------\n",
      "Charles Casper Stockham: 23.049% (85213)\n",
      "Diana DeGette: 73.812% (272892)\n",
      "Raymon Anthony Doane: 3.139% (11606)\n",
      "-------------------------\n",
      "Winner: Diana DeGette\n",
      "-------------------------\n",
      "\n"
     ]
    }
   ],
   "source": [
    "import os\n",
    "import csv\n",
    "\n",
    "file_to_load = os.path.join(\".\",\"Resources\",\"election_data.csv\")\n",
    "file_to_output = os.path.join(\".\",\"election_analysis.txt\")\n",
    "\n",
    "\n",
    "total_votes = 0\n",
    "\n",
    "candidate_vote ={}\n",
    "candidate_options =[]\n",
    "candidate_percentages ={}\n",
    "winning_count = 0\n",
    "winning_candidate =\"\"\n",
    "\n",
    "with open(file_to_load) as election_data:\n",
    "    reader = csv.reader(election_data)\n",
    "    \n",
    "    header = next(reader)\n",
    "\n",
    "# The total number of votes cast\n",
    "    \n",
    "    for row in reader:\n",
    "        total_votes = total_votes+1\n",
    "        candidate_name = row[2]\n",
    "        if candidate_name not in candidate_options:\n",
    "            candidate_options.append(candidate_name)\n",
    "            candidate_vote[candidate_name] =0\n",
    "        candidate_vote[candidate_name]+=1\n",
    "\n",
    "election_results=(f\"Election Results: \\n\"\n",
    "       f\"-------------------------\\n\"\n",
    "       f\"Total Votes: {total_votes}\\n\"\n",
    "       f\"-------------------------\\n\")\n",
    "print(election_results, end=\"\")\n",
    "\n",
    "with open(file_to_output, \"w\") as txt_file:\n",
    "    txt_file.write(election_results)\n",
    "        \n",
    "    for candidate in candidate_vote:\n",
    "        votes = candidate_vote[candidate]\n",
    "        percentage =(candidate_vote[candidate]/total_votes)*100\n",
    "        percentage_string =f\"{percentage:.3f}%\"\n",
    "        candidate_percentages[candidate]=percentage_string\n",
    " \n",
    "        voter_output = f\"{candidate}: {percentage_string} ({votes})\\n\"\n",
    "        print(voter_output, end=\"\")\n",
    "    \n",
    "        txt_file.write(voter_output)\n",
    "    \n",
    "        if(votes > winning_count):\n",
    "            winning_count = votes\n",
    "            winning_candidate = candidate\n",
    "    \n",
    "    winning_result=(f\"-------------------------\\n\"\n",
    "                    f\"Winner: {winning_candidate}\\n\"\n",
    "                    f\"-------------------------\\n\")\n",
    "    print(winning_result)\n",
    "    \n",
    "    txt_file.write(winning_result)\n"
   ]
  },
  {
   "cell_type": "code",
   "execution_count": null,
   "id": "07049b32",
   "metadata": {},
   "outputs": [],
   "source": []
  }
 ],
 "metadata": {
  "kernelspec": {
   "display_name": "Python 3 (ipykernel)",
   "language": "python",
   "name": "python3"
  },
  "language_info": {
   "codemirror_mode": {
    "name": "ipython",
    "version": 3
   },
   "file_extension": ".py",
   "mimetype": "text/x-python",
   "name": "python",
   "nbconvert_exporter": "python",
   "pygments_lexer": "ipython3",
   "version": "3.11.4"
  }
 },
 "nbformat": 4,
 "nbformat_minor": 5
}
